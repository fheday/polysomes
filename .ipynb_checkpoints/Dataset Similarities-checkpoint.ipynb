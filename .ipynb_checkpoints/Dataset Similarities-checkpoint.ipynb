{
 "cells": [
  {
   "cell_type": "code",
   "execution_count": 13,
   "metadata": {},
   "outputs": [],
   "source": [
    "import pandas as pd\n",
    "import matplotlib.pyplot as plt\n",
    "import numpy as np\n",
    "import seaborn as sns\n",
    "from sklearn.manifold import TSNE"
   ]
  },
  {
   "cell_type": "code",
   "execution_count": 8,
   "metadata": {},
   "outputs": [],
   "source": [
    "#prepare separate tables containing RNA_Prints, Ribo_Prints and Ribo_Densities for each GEO Dataset\n",
    "genes = pd.read_csv('Data/sacCer3 genes.csv')[['name','length']]\n",
    "genes.columns = ['ORF','length']\n",
    "datasets = pd.read_csv('Data/Datasets.csv')\n",
    "RNA_dats,Ribo_dats,RperR_dats = genes[['ORF',]],genes[['ORF',]],genes[['ORF',]]\n",
    "dataset_list,cluster_list = [],[],\n",
    "for dataset in datasets['SeriesID']:\n",
    "    #read in dataset\n",
    "    this_set = pd.read_csv('Data/' + dataset + '.csv')\n",
    "    #ignore datasets without RNA data\n",
    "    if 'RNA_Prints' not in this_set.columns:\n",
    "        continue\n",
    "    #combine dataset with gene legnth information, then compute RNAs per cell, Ribosomes per gene and Ribosomes per RNA\n",
    "    this_set = genes.merge(this_set,how='inner',on='ORF')\n",
    "    this_set['RNA_RPKM'] = this_set['RNA_Prints'] / (this_set['length'] / 1000)\n",
    "    this_set['RNAs'] = this_set['RNA_RPKM']/this_set['RNA_RPKM'].sum()*60000\n",
    "    this_set['Ribos'] = this_set['Ribo_Prints']/this_set['Ribo_Prints'].sum()*170000\n",
    "    this_set['RperR'] = (this_set['Ribos'] / this_set['RNAs'])\n",
    "    #merge info for this dataset with all other dataset\n",
    "    RNA_dats = RNA_dats.merge(this_set[['ORF','RNAs']],how='inner',on='ORF')\n",
    "    Ribo_dats = Ribo_dats.merge(this_set[['ORF','Ribos']],how='inner',on='ORF')\n",
    "    RperR_dats = RperR_dats.merge(this_set[['ORF','RperR']],how='inner',on='ORF')\n",
    "    #dataset_list.append(dataset)\n",
    "#remove rows with inf or nan\n",
    "Ribo_dats = Ribo_dats.replace((-np.inf,np.inf),np.nan).dropna()\n",
    "RNA_dats = RNA_dats.replace((-np.inf,np.inf),np.nan).dropna()\n",
    "RperR_dats = RperR_dats.replace((-np.inf,np.inf),np.nan).dropna()\n",
    "#transpose data for use with tsne\n",
    "Ribo_dats = np.transpose(np.array(Ribo_dats.iloc[:,1:]))\n",
    "RNA_dats = np.transpose(np.array(RNA_dats.iloc[:,1:]))\n",
    "RperR_dats = np.transpose(np.array(RperR_dats.iloc[:,1:]))\n"
   ]
  },
  {
   "cell_type": "code",
   "execution_count": null,
   "metadata": {},
   "outputs": [],
   "source": [
    "repeats = 50\n",
    "RNAs,Ribos,RperRs = np.array([[0,0]]),np.array([[0,0]]),np.array([[0,0]])\n",
    "\n",
    "for n in range(repeats):\n",
    "    Ribo_tsne = TSNE().fit_transform(Ribo_dats)\n",
    "    Ribos = np.append(Ribos,Ribo_tsne,axis=0)\n",
    "    RNA_tsne = TSNE().fit_transform(RNA_dats)\n",
    "    RNAs = np.append(RNAs,RNA_tsne,axis=0)\n",
    "    RperR_tsne = TSNE().fit_transform(RperR_dats)\n",
    "    RperRs = np.append(RperRs,RperR_tsne,axis=0)\n",
    "\n",
    "\n",
    "Ribos = Ribos[1:,:]\n",
    "RNAs=RNAs[1:,:]\n",
    "RperRs=RperRs[1:,:]\n"
   ]
  },
  {
   "cell_type": "code",
   "execution_count": null,
   "metadata": {},
   "outputs": [],
   "source": [
    "fig,ax = plt.subplots(1,3,sharey=True,sharex=True,figsize=(9,3))\n",
    "sns.set_style(\"white\")\n",
    "sns.kdeplot(RNAs[:,0],RNAs[:,1], ax=ax[0],cmap='Blues',shade=True)\n",
    "#ax[0].scatter(RNAs[:1000,0],RNAs[:1000,1],s=2,c='black',alpha=0.15),ax[0].set_title('RNAs')\n",
    "ax[0].set_ylabel('Dimension 2')\n",
    "sns.kdeplot(Ribos[:,0],Ribos[:,1], ax=ax[1],cmap='Blues',shade=True)\n",
    "#ax[1].scatter(Ribos[:1000,0],Ribos[:1000,1],s=2,c='black',alpha=0.15),ax[1].set_title('Ribosomes')\n",
    "ax[1].set_xlabel('Dimension 1')\n",
    "sns.kdeplot(RperRs[:,0],RperRs[:,1], ax=ax[2],cmap='Blues',shade=True)\n",
    "#ax[2].scatter(RperRs[:1000,0],RperRs[:1000,1],s=2,c='black',alpha=0.15),ax[2].set_title('TE')\n",
    "ax[0].set_xlim((-250,+250)), ax[0].set_ylim((-250,+250)), ax[0].set_yticks([0]), ax[0].set_xticks([0])\n",
    "#plt.savefig('Dataset_Similarities.svg')\n",
    "plt.show()"
   ]
  },
  {
   "cell_type": "code",
   "execution_count": null,
   "metadata": {},
   "outputs": [],
   "source": []
  },
  {
   "cell_type": "code",
   "execution_count": null,
   "metadata": {},
   "outputs": [],
   "source": []
  },
  {
   "cell_type": "code",
   "execution_count": null,
   "metadata": {},
   "outputs": [],
   "source": []
  },
  {
   "cell_type": "code",
   "execution_count": null,
   "metadata": {},
   "outputs": [],
   "source": []
  }
 ],
 "metadata": {
  "kernelspec": {
   "display_name": "Python 3",
   "language": "python",
   "name": "python3"
  },
  "language_info": {
   "codemirror_mode": {
    "name": "ipython",
    "version": 3
   },
   "file_extension": ".py",
   "mimetype": "text/x-python",
   "name": "python",
   "nbconvert_exporter": "python",
   "pygments_lexer": "ipython3",
   "version": "3.7.6"
  }
 },
 "nbformat": 4,
 "nbformat_minor": 4
}
