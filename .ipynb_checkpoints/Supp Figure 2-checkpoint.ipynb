{
 "cells": [
  {
   "cell_type": "code",
   "execution_count": 2,
   "metadata": {},
   "outputs": [],
   "source": [
    "import pandas as pd\n",
    "import matplotlib.pyplot as plt\n",
    "import seaborn as sns\n",
    "import numpy as np"
   ]
  },
  {
   "cell_type": "markdown",
   "metadata": {},
   "source": [
    "<h1>Tabulating ribosome densities for each dataset</h1>"
   ]
  },
  {
   "cell_type": "code",
   "execution_count": 5,
   "metadata": {},
   "outputs": [],
   "source": [
    "#read in list of datasets to be processed and context information (length) for genes\n",
    "Datasets = pd.read_csv('Data/Dataset_clusters.csv')\n",
    "genes = pd.read_csv('Data/sacCer3 genes.csv')[['name','length']]; genes.columns = ['ORF','length']\n",
    "#prepare a dataframe to receive the results\n",
    "densities = pd.DataFrame({'ORF':genes['ORF']})\n",
    "#process each dataset file listed in the Datasets table\n",
    "for Dataset in Datasets['Dataset']:\n",
    "    #read in dataset\n",
    "    dats = pd.read_csv(\"Data/\" + Dataset + '.csv')\n",
    "    #add reference RNA data if RAN data not included in dataset\n",
    "    if 'RNA_Prints' not in dats.columns:\n",
    "        RNA_dats = pd.read_csv('Data/RNA_reference.csv')\n",
    "        dats=dats.merge(RNA_dats, how='inner',on='ORF')\n",
    "    #remove all datapoints where RNA = 0 to avoid dividing by zero\n",
    "    dats = dats.loc[dats['RNA_Prints'] > 0]\n",
    "    #add information on gene lengths to enable calculation of RPKM values\n",
    "    dats = dats.merge(genes, how='inner',on='ORF')\n",
    "    #calculate conversion factors from RNA RPKM / Ribo Prints numbers of RNAs / Ribosomes\n",
    "    RNA_Conv = 60000 / (dats['RNA_Prints']/dats['length']/1000).sum()\n",
    "    Ribo_Conv = 170000 / dats['Ribo_Prints'].sum()\n",
    "    #calculate ribosome densities\n",
    "    dats[Dataset] = (dats['Ribo_Prints'] * Ribo_Conv) / ((dats['RNA_Prints'] / dats['length']/1000)*RNA_Conv)\n",
    "    #discard unnecessary columns\n",
    "    dats = dats[['ORF',Dataset]]\n",
    "    #merge data for this dataset into the main table\n",
    "    densities = densities.merge(dats, how='left',on='ORF')\n",
    "    densities = densities.fillna(0)"
   ]
  },
  {
   "cell_type": "markdown",
   "metadata": {},
   "source": [
    "<h2>Comparing average ribosome densities across clusters</h2>"
   ]
  },
  {
   "cell_type": "code",
   "execution_count": 6,
   "metadata": {},
   "outputs": [
    {
     "name": "stderr",
     "output_type": "stream",
     "text": [
      "C:\\Users\\Tvon-\\anaconda3\\lib\\site-packages\\ipykernel_launcher.py:7: SettingWithCopyWarning: \n",
      "A value is trying to be set on a copy of a slice from a DataFrame.\n",
      "Try using .loc[row_indexer,col_indexer] = value instead\n",
      "\n",
      "See the caveats in the documentation: https://pandas.pydata.org/pandas-docs/stable/user_guide/indexing.html#returning-a-view-versus-a-copy\n",
      "  import sys\n"
     ]
    }
   ],
   "source": [
    "by_cluster = pd.DataFrame({'ORF':genes['ORF']})\n",
    "for cluster in Datasets['Cluster No'].unique():\n",
    "    this_set = Datasets.loc[Datasets['Cluster No'] == cluster]\n",
    "    cols = list(this_set['Dataset'])\n",
    "    cols.append('ORF')\n",
    "    these_densities = densities[cols]\n",
    "    these_densities[cluster] = these_densities.mean(axis=1)\n",
    "    these_densities = these_densities[['ORF',cluster]]\n",
    "    by_cluster = by_cluster.merge(these_densities, how = 'left', on='ORF')"
   ]
  },
  {
   "cell_type": "code",
   "execution_count": 19,
   "metadata": {},
   "outputs": [
    {
     "data": {
      "image/png": "[encoded data removed]",
      "text/plain": [
       "<Figure size 432x288 with 1 Axes>"
      ]
     },
     "metadata": {
      "needs_background": "light"
     },
     "output_type": "display_data"
    }
   ],
   "source": [
    "medianprops = dict(linewidth=2.5, color='black')\n",
    "boxwidth = (0.5,)\n",
    "fig,ax = plt.subplots()\n",
    "ax.boxplot(by_cluster[1].values,positions = (1,),widths=boxwidth,boxprops={'color':'#4682b4','linewidth':2.5},medianprops = medianprops)\n",
    "ax.boxplot(by_cluster[4].values,positions = (2,),widths=boxwidth,boxprops={'color':'#778b85','linewidth':2.5},medianprops = medianprops)\n",
    "ax.boxplot(by_cluster[3].values,positions = (3,),widths=boxwidth,boxprops={'color':'#be993f','linewidth':2.5},medianprops = medianprops)\n",
    "ax.boxplot(by_cluster[2].values,positions = (4,),widths=boxwidth,boxprops={'color':'#ffa500','linewidth':2.5},medianprops = medianprops)\n",
    "ax.set_ylim((-10,100))\n",
    "ax.set_ylabel('Ribosomes per mRNA')\n",
    "ax.set_xlabel('Cluster Number')\n",
    "#plt.savefig('Supp Figure 2.svg')\n",
    "plt.show()"
   ]
  },
  {
   "cell_type": "code",
   "execution_count": null,
   "metadata": {},
   "outputs": [],
   "source": []
  },
  {
   "cell_type": "code",
   "execution_count": null,
   "metadata": {},
   "outputs": [],
   "source": []
  },
  {
   "cell_type": "code",
   "execution_count": null,
   "metadata": {},
   "outputs": [],
   "source": []
  },
  {
   "cell_type": "code",
   "execution_count": null,
   "metadata": {},
   "outputs": [],
   "source": []
  },
  {
   "cell_type": "code",
   "execution_count": null,
   "metadata": {},
   "outputs": [],
   "source": []
  },
  {
   "cell_type": "code",
   "execution_count": null,
   "metadata": {},
   "outputs": [],
   "source": []
  }
 ],
 "metadata": {
  "kernelspec": {
   "display_name": "Python 3",
   "language": "python",
   "name": "python3"
  },
  "language_info": {
   "codemirror_mode": {
    "name": "ipython",
    "version": 3
   },
   "file_extension": ".py",
   "mimetype": "text/x-python",
   "name": "python",
   "nbconvert_exporter": "python",
   "pygments_lexer": "ipython3",
   "version": "3.7.6"
  }
 },
 "nbformat": 4,
 "nbformat_minor": 4
}
