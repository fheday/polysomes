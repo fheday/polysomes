{
 "cells": [
  {
   "cell_type": "code",
   "execution_count": 1,
   "metadata": {},
   "outputs": [],
   "source": [
    "import pandas as pd\n",
    "import numpy as np\n",
    "import matplotlib.pyplot as plt"
   ]
  },
  {
   "cell_type": "markdown",
   "metadata": {},
   "source": [
    "<h1>To do:</h1>\n",
    "<p>Add function to scale line width according to numbers of genes affected.</p>"
   ]
  },
  {
   "cell_type": "code",
   "execution_count": 200,
   "metadata": {},
   "outputs": [],
   "source": [
    "def compare_profiles(dats1, dats2, dats1_columns = ['ORF','RNA_Prints','Ribo_Prints'],\n",
    "                     dats2_columns = ['ORF','RNA_Prints','Ribo_Prints'],colors =['red','green','black'],return_df=False,linewidth_value = 'proportion'):\n",
    "    \n",
    "    \"\"\"Computes and displays the predominant movements of transcripts between polysome peaks for two conditions.\"\"\"\n",
    "    \n",
    "    import pandas as pd\n",
    "    import matplotlib.pyplot as plt\n",
    "    import numpy as np\n",
    "    \n",
    "    def counts_to_RPKM(dats):\n",
    "        #read in the gene length info dataset\n",
    "        genes = pd.read_csv('Data/sacCer3 genes.csv')\n",
    "        #combine input dataset with gene length information \n",
    "        dats = dats.merge(genes[['name','length']],how='inner',left_on='ORF',right_on='name')[['ORF','RNA_Prints','Ribo_Prints','length']]\n",
    "        #calculate RPKM\n",
    "        dats['RNA_RPKM'] = dats['RNA_Prints']/(dats['length']/1000) \n",
    "        dats = dats.drop(['RNA_Prints','length'],axis=1)\n",
    "        return dats\n",
    "    \n",
    "    def calc_RperR(Rdats, RNA_content = 60000, ribo_content = 200000, frac_act = 0.85,poly_limit = 30):\n",
    "        #determine conversion factor from Ribo_Prints to no of Ribosomes\n",
    "        RiboPrints2Ribos = (ribo_content * frac_act) / sum(Rdats['Ribo_Prints'])\n",
    "        Rdats['Ribos_bound'] = Rdats['Ribo_Prints']*RiboPrints2Ribos\n",
    "        #determine conversion factor from RNA_RPKM to no of RNAs\n",
    "        RNARPKM2RNAs = RNA_content / sum(Rdats['RNA_RPKM'])\n",
    "        Rdats['RNAs_per_cell'] = Rdats['RNA_RPKM']*RNARPKM2RNAs\n",
    "        #calculate the ribosome load per RNA (RperR)\n",
    "        Rdats['RperR'] = np.round(Rdats['Ribos_bound'] / Rdats['RNAs_per_cell'])\n",
    "        Rdats=Rdats.dropna()\n",
    "        #remove rows where the number of ribosomes per RNA is > poly_limit\n",
    "        Rdats = Rdats.loc[Rdats['RperR'] <= poly_limit]\n",
    "        return Rdats\n",
    "    \n",
    "    #prepare datasets and compute RperR values via RNA RPKM values\n",
    "    dats1 = dats1[dats1_columns]\n",
    "    dats1.columns = ['ORF','RNA_Prints','Ribo_Prints']\n",
    "    dats1 = counts_to_RPKM(dats1) \n",
    "    dats1 = calc_RperR(dats1)\n",
    "    dats2 = dats2[dats2_columns]\n",
    "    dats2.columns = ['ORF','RNA_Prints','Ribo_Prints']\n",
    "    dats2 = counts_to_RPKM(dats2)\n",
    "    dats2 = calc_RperR(dats2)\n",
    "    \n",
    "    #compute column movements for individual transcripts\n",
    "    fromto = dats1[['ORF','RperR']].merge(dats2[['ORF','RperR']],how = 'inner',on = 'ORF')\n",
    "    fromto.columns = ['ORF','from','to']\n",
    "    \n",
    "    #calculate main destinations for each origin peak\n",
    "    from_vec = fromto['from'].unique()\n",
    "    from_vec.sort()\n",
    "    to_vec = np.zeros(len(from_vec))\n",
    "    color_vec = []\n",
    "    linewidth_vec = []\n",
    "    for idx in range(len(from_vec)):\n",
    "        this_from  = fromto.loc[fromto['from'] == from_vec[idx]]\n",
    "        n_seqs_in_peak = this_from.shape[0]\n",
    "        to_vec[idx] = this_from['to'].value_counts().idxmax()\n",
    "        n_seqs_to_dest = this_from['to'].value_counts().values[0]\n",
    "        if from_vec[idx] < to_vec[idx]:\n",
    "            color_vec.append(colors[1])\n",
    "        elif from_vec[idx] > to_vec[idx]:\n",
    "            color_vec.append(colors[0])\n",
    "        else:\n",
    "            color_vec.append(colors[2])\n",
    "        if linewidth_value == 'proportion':\n",
    "            linewidth_vec.append(1/-np.log(n_seqs_to_dest/n_seqs_in_peak-0.13))\n",
    "        else:\n",
    "            linewidth_vec.append(np.log(n_seqs_to_dest))\n",
    "        \n",
    "    \n",
    "    #prepare main figure\n",
    "    fig,ax = plt.subplots(1,2,figsize = (7,4),sharey=True,gridspec_kw={'width_ratios': [5, 2]})\n",
    "    for idx in range(len(from_vec)):\n",
    "        ax[0].plot([from_vec[idx],to_vec[idx]],[3,1],c=color_vec[idx],linewidth=linewidth_vec[idx],alpha=0.4)\n",
    "    ax[0].set_yticks([3,1])\n",
    "    ax[0].set_yticklabels(['origin peak','destination peak'])\n",
    "    ax[0].set_xlabel('Polysome number')\n",
    "    \n",
    "    #prepare legend for line width\n",
    "    if linewidth_value=='proportion':\n",
    "        ax[1].text(1,2,'Proportion of mRNAs in predominant group',verticalalignment='center',rotation = 90)\n",
    "        ref_widths = [0.3,0.6,0.9]\n",
    "        log_ref_widths = [1/-np.log(w-0.13) for w in ref_widths]\n",
    "    else:\n",
    "        ax[1].text(1,2,'Number of mRNAs in origin group',verticalalignment='center',rotation = 90)\n",
    "        ref_widths = [10,100,1000]\n",
    "        log_ref_widths = [np.log(w) for w in ref_widths]\n",
    "        \n",
    "    y_pos = [1.5,2,2.5]\n",
    "    ax[1].axis('off')\n",
    "    ax[1].set_xlim((0,1.2))\n",
    "    for idx in [0,1,2]:\n",
    "        ax[1].plot([-0.2,0.5],[y_pos[idx],y_pos[idx]],linewidth=log_ref_widths[idx],c='black',alpha=0.4)\n",
    "        ax[1].text(0.6,y_pos[idx],str(ref_widths[idx]),verticalalignment='center')\n",
    "    \n",
    "    if return_df:\n",
    "        return fig,ax,fromto\n",
    "    else:\n",
    "        return fig,ax"
   ]
  },
  {
   "cell_type": "code",
   "execution_count": 199,
   "metadata": {},
   "outputs": [
    {
     "data": {
      "text/plain": [
       "7.180706269462305"
      ]
     },
     "execution_count": 199,
     "metadata": {},
     "output_type": "execute_result"
    }
   ],
   "source": [
    "w=1\n",
    "1/-np.log(w-0.13)"
   ]
  },
  {
   "cell_type": "code",
   "execution_count": 192,
   "metadata": {},
   "outputs": [
    {
     "data": {
      "text/plain": [
       "9.491221581029905"
      ]
     },
     "execution_count": 192,
     "metadata": {},
     "output_type": "execute_result"
    }
   ],
   "source": [
    "1/-np.log(0.9-0.2)"
   ]
  },
  {
   "cell_type": "code",
   "execution_count": 203,
   "metadata": {},
   "outputs": [
    {
     "data": {
      "image/png": "[encoded data removed]",
      "text/plain": [
       "<Figure size 504x288 with 2 Axes>"
      ]
     },
     "metadata": {
      "needs_background": "light"
     },
     "output_type": "display_data"
    }
   ],
   "source": [
    "dats = pd.read_csv('Data/GSE67387_all_data.csv')\n",
    "fig,ax = compare_profiles(dats1 = dats,dats2 = dats,dats1_columns = ['ORF','WT_RNA','WT_Ribo'],dats2_columns = ['ORF','ncs2_RNA','ncs2_Ribo'])\n",
    "#plt.savefig('Peak_Comparison.svg')\n",
    "plt.show()"
   ]
  },
  {
   "cell_type": "code",
   "execution_count": 204,
   "metadata": {},
   "outputs": [
    {
     "data": {
      "image/png": "[encoded data removed]",
      "text/plain": [
       "<Figure size 504x288 with 2 Axes>"
      ]
     },
     "metadata": {
      "needs_background": "light"
     },
     "output_type": "display_data"
    }
   ],
   "source": [
    "dats = pd.read_csv('Data/GSE67387_all_data.csv')\n",
    "fig,ax = compare_profiles(dats1 = dats,dats2 = dats,dats1_columns = ['ORF','WT+rapamycin_RNA','WT+rapamycin_Ribo'],dats2_columns = ['ORF','ncs2+rapamycin_RNA','ncs2+rapamycin_Ribo'])\n",
    "#plt.savefig('Peak_Comparison.svg')\n",
    "plt.show()"
   ]
  },
  {
   "cell_type": "code",
   "execution_count": 206,
   "metadata": {},
   "outputs": [
    {
     "data": {
      "image/png": "[encoded data removed]",
      "text/plain": [
       "<Figure size 504x288 with 2 Axes>"
      ]
     },
     "metadata": {
      "needs_background": "light"
     },
     "output_type": "display_data"
    }
   ],
   "source": [
    "dats = pd.read_csv('Data/GSE67387_all_data.csv')\n",
    "fig,ax = compare_profiles(dats1 = dats,dats2 = dats,dats1_columns = ['ORF','WT+diamide_RNA','WT+diamide_Ribo'],dats2_columns = ['ORF','ncs2+diamide_RNA','ncs2+diamide_Ribo'])\n",
    "#plt.savefig('Peak_Comparison.svg')\n",
    "plt.show()"
   ]
  },
  {
   "cell_type": "code",
   "execution_count": 147,
   "metadata": {},
   "outputs": [
    {
     "name": "stdout",
     "output_type": "stream",
     "text": [
      "12 3\n"
     ]
    }
   ],
   "source": [
    "print(n_seqs_in_peak,n_seqs_to_dest)"
   ]
  },
  {
   "cell_type": "code",
   "execution_count": 167,
   "metadata": {},
   "outputs": [
    {
     "data": {
      "text/plain": [
       "1"
      ]
     },
     "execution_count": 167,
     "metadata": {},
     "output_type": "execute_result"
    }
   ],
   "source": [
    "np.min([1,2,3])"
   ]
  },
  {
   "cell_type": "code",
   "execution_count": 148,
   "metadata": {},
   "outputs": [
    {
     "data": {
      "text/html": [
       "<div>\n",
       "<style scoped>\n",
       "    .dataframe tbody tr th:only-of-type {\n",
       "        vertical-align: middle;\n",
       "    }\n",
       "\n",
       "    .dataframe tbody tr th {\n",
       "        vertical-align: top;\n",
       "    }\n",
       "\n",
       "    .dataframe thead th {\n",
       "        text-align: right;\n",
       "    }\n",
       "</style>\n",
       "<table border=\"1\" class=\"dataframe\">\n",
       "  <thead>\n",
       "    <tr style=\"text-align: right;\">\n",
       "      <th></th>\n",
       "      <th>ORF</th>\n",
       "      <th>from</th>\n",
       "      <th>to</th>\n",
       "    </tr>\n",
       "  </thead>\n",
       "  <tbody>\n",
       "    <tr>\n",
       "      <th>535</th>\n",
       "      <td>YCL061C</td>\n",
       "      <td>15.0</td>\n",
       "      <td>13.0</td>\n",
       "    </tr>\n",
       "    <tr>\n",
       "      <th>774</th>\n",
       "      <td>YDL160C</td>\n",
       "      <td>15.0</td>\n",
       "      <td>16.0</td>\n",
       "    </tr>\n",
       "    <tr>\n",
       "      <th>1240</th>\n",
       "      <td>YDR406W</td>\n",
       "      <td>15.0</td>\n",
       "      <td>18.0</td>\n",
       "    </tr>\n",
       "    <tr>\n",
       "      <th>1552</th>\n",
       "      <td>YER111C</td>\n",
       "      <td>15.0</td>\n",
       "      <td>13.0</td>\n",
       "    </tr>\n",
       "    <tr>\n",
       "      <th>1566</th>\n",
       "      <td>YER125W</td>\n",
       "      <td>15.0</td>\n",
       "      <td>16.0</td>\n",
       "    </tr>\n",
       "    <tr>\n",
       "      <th>2461</th>\n",
       "      <td>YHR158C</td>\n",
       "      <td>15.0</td>\n",
       "      <td>15.0</td>\n",
       "    </tr>\n",
       "    <tr>\n",
       "      <th>2665</th>\n",
       "      <td>YIL149C</td>\n",
       "      <td>15.0</td>\n",
       "      <td>14.0</td>\n",
       "    </tr>\n",
       "    <tr>\n",
       "      <th>2911</th>\n",
       "      <td>YJL207C</td>\n",
       "      <td>15.0</td>\n",
       "      <td>16.0</td>\n",
       "    </tr>\n",
       "    <tr>\n",
       "      <th>3262</th>\n",
       "      <td>YKL203C</td>\n",
       "      <td>15.0</td>\n",
       "      <td>14.0</td>\n",
       "    </tr>\n",
       "    <tr>\n",
       "      <th>4558</th>\n",
       "      <td>YNL271C</td>\n",
       "      <td>15.0</td>\n",
       "      <td>15.0</td>\n",
       "    </tr>\n",
       "    <tr>\n",
       "      <th>5313</th>\n",
       "      <td>YPL106C</td>\n",
       "      <td>15.0</td>\n",
       "      <td>14.0</td>\n",
       "    </tr>\n",
       "    <tr>\n",
       "      <th>5428</th>\n",
       "      <td>YPL226W</td>\n",
       "      <td>15.0</td>\n",
       "      <td>18.0</td>\n",
       "    </tr>\n",
       "  </tbody>\n",
       "</table>\n",
       "</div>"
      ],
      "text/plain": [
       "          ORF  from    to\n",
       "535   YCL061C  15.0  13.0\n",
       "774   YDL160C  15.0  16.0\n",
       "1240  YDR406W  15.0  18.0\n",
       "1552  YER111C  15.0  13.0\n",
       "1566  YER125W  15.0  16.0\n",
       "2461  YHR158C  15.0  15.0\n",
       "2665  YIL149C  15.0  14.0\n",
       "2911  YJL207C  15.0  16.0\n",
       "3262  YKL203C  15.0  14.0\n",
       "4558  YNL271C  15.0  15.0\n",
       "5313  YPL106C  15.0  14.0\n",
       "5428  YPL226W  15.0  18.0"
      ]
     },
     "execution_count": 148,
     "metadata": {},
     "output_type": "execute_result"
    }
   ],
   "source": [
    "this_from"
   ]
  },
  {
   "cell_type": "code",
   "execution_count": 162,
   "metadata": {},
   "outputs": [
    {
     "data": {
      "text/plain": [
       "7.0     33\n",
       "8.0     24\n",
       "9.0      8\n",
       "6.0      6\n",
       "11.0     2\n",
       "12.0     1\n",
       "5.0      1\n",
       "Name: to, dtype: int64"
      ]
     },
     "execution_count": 162,
     "metadata": {},
     "output_type": "execute_result"
    }
   ],
   "source": [
    "this_from['to'].value_counts()"
   ]
  },
  {
   "cell_type": "code",
   "execution_count": null,
   "metadata": {},
   "outputs": [],
   "source": []
  }
 ],
 "metadata": {
  "kernelspec": {
   "display_name": "Python 3",
   "language": "python",
   "name": "python3"
  },
  "language_info": {
   "codemirror_mode": {
    "name": "ipython",
    "version": 3
   },
   "file_extension": ".py",
   "mimetype": "text/x-python",
   "name": "python",
   "nbconvert_exporter": "python",
   "pygments_lexer": "ipython3",
   "version": "3.7.6"
  }
 },
 "nbformat": 4,
 "nbformat_minor": 4
}
